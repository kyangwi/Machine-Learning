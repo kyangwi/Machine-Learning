{
 "cells": [
  {
   "cell_type": "markdown",
   "metadata": {},
   "source": [
    "![](ML.png)"
   ]
  },
  {
   "cell_type": "markdown",
   "metadata": {
    "id": "1VVo1NSsvPAA"
   },
   "source": [
    "# 1. Prémisses de l'analyse de régression :\r\n",
    "\r\n",
    "## . a Qu'est-ce que l'intelligence artificielle :\r\n",
    "L'IA est une science multidisciplinaire composée d'informatique, de mathématiques (calcul et statistiques), d'électronique, de neurosciences... qui vise à résoudre des problèmes de manière similaire à celle des humains.\r\n",
    "\r\n",
    "# 1. b Qu'est-ce que l'apprentissage automatique ? :\r\n",
    "- L'apprentissage automatique (ML) fait partie de l'IA\r\n",
    "- La capacité d'un algorithme informatique à apprendre des motifs dans les données sans être explicitement programmé. En effet, le ML est l'un des moyens les plus pratiques pour implémenter l'intelligence artifitraditionnel ne peut pas détecter.\r\n"
   ]
  },
  {
   "cell_type": "markdown",
   "metadata": {},
   "source": [
    "![](MLstructure.png) "
   ]
  },
  {
   "cell_type": "markdown",
   "metadata": {},
   "source": [
    "## 1. c Qu'est-ce qui peut être considéré comme des données en apprentissage automatique ?\n",
    "Les données peuvent être n'importe quoi en apprentissage automatique, nous pouvons avoir : **données structurées** et **données non structurées**\n",
    "  \n",
    "- 1.1. **Données structurées** : feuille de calcul Excel, tout type de données tabulaires, cela peut être catégoriel ou numérique.\n",
    "- 1.2. **Données non structurées** : vidéos, audios, images, textes...\n",
    "\n",
    "Flux de travail en apprentissage automatique :\n",
    "\n",
    "> 1. Nettoyage des données\n",
    "> 2. Conversion des données en représentation numérique\n",
    "> 3. Construction d'un modèle pour apprendre les motifs dans ces données numériques\n",
    "> 4. Prédiction sur des donées non vues\n",
    "\n",
    "## 1. d Qu'est-ce que la régression <b>🤔</b> ?\n",
    "> - En apprentissage automatique, en statistique et en science des données, la régression est une technique qui consiste à analyser et modéliser les relations entre les variables : En gros, nous essayons de prédire une variable (Y) en fonction d'autres variables (Xs) !\n",
    "\n",
    "> - avec **y** comme variable dépendante et **Xs** comme variables indépendantes -> Ici, nous visons la causalité : Modélisation prédictive.\n",
    "> - En gros, nous essayons de faire une analyse de corrélation entre les variables >- Etude d'unetif dans nos données est une formule ty,pique de régression linéaire d'une ligne droite : Soit>y = ax + ong> nomons <b>a</b>etebe poid(erreur)s et <b>b</b> comme le biais : et tous deux seront >- appelés <b>paramètres</b>.\n",
    "\n",
    "Voici la formulation de l'équation : <b>y = 0.7x + 0.3</b>,\n",
    "où le poids (pente) est 0.7 et e biais (erreur) = 0.3.\n",
    "\n",
    "## 1. e Qu'est-ce que les réseaux de neurones artificiels <b>🤔</b> ?\n",
    "\n",
    "- Les réseaux neuronaux (NN) sont des modèles computationnels inspirés de la structure du cerveau humain, et ont pour but d'apprendre des représentations numériques au sein des données.\n",
    "- Les réseaux neuronaux sont les piliers de l'apprentissage profond (Deep Learning).\n",
    "- L'apprentissage profond est un type d'apprentissage automatique capable d'apprendre des motifs complexes dans les données que l'apprentissage automatique traditionnel ne peut pas détecter.\n",
    "e traditionnel ne peut pas détecter."
   ]
  },
  {
   "cell_type": "markdown",
   "metadata": {},
   "source": [
    "![](NN.jpg) "
   ]
  },
  {
   "cell_type": "code",
   "execution_count": 1,
   "metadata": {
    "id": "wWm5H09OvDQV"
   },
   "outputs": [],
   "source": [
    "import torch\n",
    "from torch import nn\n",
    "import matplotlib.pyplot as plt"
   ]
  },
  {
   "cell_type": "code",
   "execution_count": 2,
   "metadata": {
    "id": "irFct-XmvKkK"
   },
   "outputs": [],
   "source": [
    "#creating *known* parameters\n",
    "weight = 0.7\n",
    "bias = 0.3\n",
    "\n",
    "# creating our data\n",
    "start = 0\n",
    "end = 2\n",
    "# ax + b = c\n",
    "\n",
    "step = 0.02\n",
    "\n",
    "X = torch.arange(start,end,step).unsqueeze(dim=1)\n",
    "y = weight * X + bias"
   ]
  },
  {
   "cell_type": "code",
   "execution_count": 3,
   "metadata": {
    "id": "6pn8BxQvvWFi"
   },
   "outputs": [
    {
     "data": {
      "text/plain": [
       "(100,\n",
       " 100,\n",
       " tensor([[0.0000],\n",
       "         [0.0200],\n",
       "         [0.0400],\n",
       "         [0.0600],\n",
       "         [0.0800],\n",
       "         [0.1000],\n",
       "         [0.1200],\n",
       "         [0.1400],\n",
       "         [0.1600],\n",
       "         [0.1800]]),\n",
       " tensor([[0.3000],\n",
       "         [0.3140],\n",
       "         [0.3280],\n",
       "         [0.3420],\n",
       "         [0.3560],\n",
       "         [0.3700],\n",
       "         [0.3840],\n",
       "         [0.3980],\n",
       "         [0.4120],\n",
       "         [0.4260]]))"
      ]
     },
     "execution_count": 3,
     "metadata": {},
     "output_type": "execute_result"
    }
   ],
   "source": [
    "len(y),len(X), X[:10],y[:10]"
   ]
  },
  {
   "cell_type": "markdown",
   "metadata": {
    "id": "6Agail72yG8q"
   },
   "source": [
    "# 2. Division de nos données en ensembles d'entraînement et de test\r\n",
    "- 80% ensemble d'entraînement\r\n",
    "- 20% ensemble de tet\r\n"
   ]
  },
  {
   "cell_type": "markdown",
   "metadata": {},
   "source": [
    "![](tts.png)"
   ]
  },
  {
   "cell_type": "code",
   "execution_count": 4,
   "metadata": {
    "id": "jlbrS8O7xJxL"
   },
   "outputs": [
    {
     "data": {
      "text/plain": [
       "(80, 80, 20, 20)"
      ]
     },
     "execution_count": 4,
     "metadata": {},
     "output_type": "execute_result"
    }
   ],
   "source": [
    "train_proportion = int(len(X) * 0.8)\n",
    "train_proportion\n",
    "\n",
    "# training set\n",
    "X_train,y_train = X[:train_proportion], y[:train_proportion]\n",
    "\n",
    "# testing_set\n",
    "X_test,y_test =  X[train_proportion:], y[train_proportion:]\n",
    "\n",
    "len(X_train), len(y_train), len(X_test),len(y_test)"
   ]
  },
  {
   "cell_type": "markdown",
   "metadata": {
    "id": "0l40T5-PzkoL"
   },
   "source": [
    "# 3. Création d'une visualisation de nos données\n"
   ]
  },
  {
   "cell_type": "code",
   "execution_count": 5,
   "metadata": {
    "id": "nDTkhjKcziMt"
   },
   "outputs": [],
   "source": [
    "def data_visualizer(train_data = X_train,\n",
    "                   train_labels = y_train,\n",
    "                   test_data = X_test,\n",
    "                   test_labels = y_test,\n",
    "                   predicted = None):\n",
    "\n",
    "  plt.figure(figsize=(7,5))\n",
    "\n",
    "  # Training scatter plot\n",
    "  plt.scatter(train_data,train_labels, c ='b', s=4, label='Training data')\n",
    "  \n",
    "  # Tesing scatter plot\n",
    "  plt.scatter(test_data, test_labels, c='g', s=4, label='Testing data')\n",
    "\n",
    "  if predicted is not None:\n",
    "    # Tesing scatter plot\n",
    "    plt.scatter(test_data, predicted, c='r', s=4, label='Predictions')\n",
    "      \n",
    "  plt.xlabel(\"X-axis (Independent variable)\")\n",
    "  plt.ylabel(\"Y-axis (Dependent variable)\")\n",
    "  plt.legend(title =\"Nomenclature\")\n",
    "  \n"
   ]
  },
  {
   "cell_type": "code",
   "execution_count": 6,
   "metadata": {
    "id": "fy_wzM0Eyhos"
   },
   "outputs": [
    {
     "data": {
      "image/png": "[encoded data removed]",
      "text/plain": [
       "<Figure size 700x500 with 1 Axes>"
      ]
     },
     "metadata": {},
     "output_type": "display_data"
    }
   ],
   "source": [
    "data_visualizer(X_train,y_train)"
   ]
  },
  {
   "cell_type": "markdown",
   "metadata": {
    "id": "NHONABoW-F8q"
   },
   "source": [
    "# 4. CRÉATION DU PREMIER MODÈLE DE RÉSEAU NEURONAL LINÉAIRE\r\n",
    "Que fait votre modèle ?\r\n",
    "> - Commencer avec des paramètres aléatoires (poids et biais)\r\n",
    "> - Examiner les données d'entraînement pour ajuster les poids et les biais (paramètres) afin de se rapprocher des valeurs idéales\r\n",
    "\r\n",
    "Comment fait-il cela ?\r\n",
    "> Grâce à deux algorithmes :\r\n",
    "- Rétropropagation\r\n",
    "- Descente de radient\r\n"
   ]
  },
  {
   "cell_type": "markdown",
   "metadata": {},
   "source": [
    "  ![](FFNN.jpeg) "
   ]
  },
  {
   "cell_type": "markdown",
   "metadata": {},
   "source": [
    "ax + b = c\n",
    "a=0.7\n",
    "b=0.3\n",
    "x=10\n",
    "c=7.3\n",
    "\n",
    "Taux derreur = 7.3-3=4"
   ]
  },
  {
   "cell_type": "code",
   "execution_count": 8,
   "metadata": {
    "id": "CFhSscB61IWa"
   },
   "outputs": [],
   "source": [
    "# Setting seed for repeatability of experimentation\n",
    "torch.manual_seed(seed = 12)\n",
    "\n",
    "class LinearRegression(nn.Module):\n",
    "  def __init__(self):\n",
    "    super().__init__()\n",
    "    self.weight = nn.Parameter(torch.randn(1,\n",
    "                                            requires_grad = True,\n",
    "                                            dtype = torch.float))\n",
    "\n",
    "    self.bias = nn.Parameter(torch.randn(1,             \n",
    "                                         requires_grad=True,\n",
    "                                         dtype = torch.float))\n",
    "\n",
    "\n",
    "  # Defining model computation shame\n",
    "  def forward(self, x: torch.Tensor) -> torch.Tensor:\n",
    "    return self.weight * x + self.bias"
   ]
  },
  {
   "cell_type": "code",
   "execution_count": 9,
   "metadata": {
    "id": "N1xPTivVAXnV"
   },
   "outputs": [
    {
     "data": {
      "text/plain": [
       "(Parameter containing:\n",
       " tensor([-0.2138], requires_grad=True),\n",
       " Parameter containing:\n",
       " tensor([-1.3780], requires_grad=True))"
      ]
     },
     "execution_count": 9,
     "metadata": {},
     "output_type": "execute_result"
    }
   ],
   "source": [
    "# instantiating our model\n",
    "model = LinearRegression()\n",
    "\n",
    "# Printing the model's parameters\n",
    "model.weight,model.bias"
   ]
  },
  {
   "cell_type": "markdown",
   "metadata": {
    "id": "p4oG2M3gF9TF"
   },
   "source": [
    "# 5. Fonction de perte et optimiseur\r\n",
    "\r\n",
    "## 5.1: Qu'est-ce que l'optimisation en apprentissage automatique ?\r\n",
    "- L'optimisation est une technique d'ajustement des paramètres du modèle pour atteindre une convergence plus rapide.\r\n",
    "\r\n",
    "## 5.2: Qu'est-ce que la descente de gradient ?\r\n",
    "- La descente de gradient (GD) est l'un des algorithmes d'optimisation les plus utilisés en apprentissage automatique. Imaginez que vous travaillez sur un terrain vallonné et que vous souhaitez atteindre la vallée le plus rapidement possible. La descente de gradient ajuste itérativement les paramètres du modèle dans la direction qui minimisera **la fonction de coût (perte)**.\r\n",
    "\r\n",
    "En pratique, nous avons :\r\n",
    "- **Fonction de perte** : Cela aide à évaluer la qualité de nos prédictions par rapport à la vérité terrain.\r\n",
    "- **Optimiseur** : Celui-ci prend en compte la perte pour optimiser les paramètres u modèle.\r\n"
   ]
  },
  {
   "cell_type": "code",
   "execution_count": 10,
   "metadata": {
    "id": "raIPyIXcAgJG"
   },
   "outputs": [],
   "source": [
    "# Definning the loss function\n",
    "loss_fn = nn.L1Loss()\n",
    "\n",
    "# Defining the optimizer\n",
    "optimizer = torch.optim.SGD(params=model.parameters(),lr=0.01, momentum =0.9)"
   ]
  },
  {
   "cell_type": "markdown",
   "metadata": {},
   "source": [
    "![](MAE.png) "
   ]
  },
  {
   "cell_type": "code",
   "execution_count": 11,
   "metadata": {
    "colab": {
     "background_save": true,
     "base_uri": "https://localhost:8080/"
    },
    "id": "2mo0Y50SHl4X",
    "outputId": "e7fe53ff-8ce6-4d6d-b1ec-3c3b3ea8f6bb"
   },
   "outputs": [
    {
     "data": {
      "text/plain": [
       "(Parameter containing:\n",
       " tensor([-0.2138], requires_grad=True),\n",
       " Parameter containing:\n",
       " tensor([-1.3780], requires_grad=True))"
      ]
     },
     "execution_count": 11,
     "metadata": {},
     "output_type": "execute_result"
    }
   ],
   "source": [
    "model.weight,model.bias"
   ]
  },
  {
   "cell_type": "markdown",
   "metadata": {},
   "source": [
    "# 6. Prédiction naïve :\r\n",
    "- Essayons une prédiction naïve sur nos données de test\r\n",
    "- Tracer les prédictions pour voir à quel point elles convergent avec la **vérité terrain*\r\n"
   ]
  },
  {
   "cell_type": "code",
   "execution_count": 12,
   "metadata": {
    "id": "PeE-2ya1HkZh"
   },
   "outputs": [
    {
     "data": {
      "text/plain": [
       "tensor([[-1.7201],\n",
       "        [-1.7243],\n",
       "        [-1.7286],\n",
       "        [-1.7329],\n",
       "        [-1.7372],\n",
       "        [-1.7414],\n",
       "        [-1.7457],\n",
       "        [-1.7500],\n",
       "        [-1.7543],\n",
       "        [-1.7586],\n",
       "        [-1.7628],\n",
       "        [-1.7671],\n",
       "        [-1.7714],\n",
       "        [-1.7757],\n",
       "        [-1.7799],\n",
       "        [-1.7842],\n",
       "        [-1.7885],\n",
       "        [-1.7928],\n",
       "        [-1.7970],\n",
       "        [-1.8013]], grad_fn=<AddBackward0>)"
      ]
     },
     "execution_count": 12,
     "metadata": {},
     "output_type": "execute_result"
    }
   ],
   "source": [
    "preds = model(X_test)\n",
    "preds"
   ]
  },
  {
   "cell_type": "code",
   "execution_count": 19,
   "metadata": {},
   "outputs": [],
   "source": [
    "# Let us ploat the prediction\n",
    "# data_visualizer(test_data = X_test, test_labels = y_test, predicted = preds.detach().numpy())"
   ]
  },
  {
   "cell_type": "markdown",
   "metadata": {},
   "source": [
    "# 7. Boucle d'entraînement\r\n",
    "#### 7.1 Boucle d'entraînement manuelle\r\n",
    "> Ici, nous essayons de démontrer comment le modèle ajuste les paramètres en fonction de la valeur de perte pour chaque itération (époque.\r\n"
   ]
  },
  {
   "cell_type": "code",
   "execution_count": 20,
   "metadata": {},
   "outputs": [
    {
     "name": "stdout",
     "output_type": "stream",
     "text": [
      "Epoch 0 val_loss: 0.2910\n",
      "Epoch 1 val_loss: 0.1446\n",
      "Epoch 2 val_loss: 0.1019\n",
      "Epoch 3 val_loss: 0.1606\n",
      "Epoch 4 val_loss: 0.2421\n",
      "Epoch 5 val_loss: 0.3179\n",
      "Epoch 6 val_loss: 0.3741\n",
      "Epoch 7 val_loss: 0.4084\n",
      "Epoch 8 val_loss: 0.4230\n",
      "Epoch 9 val_loss: 0.4200\n",
      "Epoch 10 val_loss: 0.4010\n",
      "Epoch 11 val_loss: 0.3676\n",
      "Epoch 12 val_loss: 0.3214\n",
      "Epoch 13 val_loss: 0.2639\n",
      "Epoch 14 val_loss: 0.2016\n",
      "Epoch 15 val_loss: 0.1427\n",
      "Epoch 16 val_loss: 0.0972\n",
      "Epoch 17 val_loss: 0.0790\n",
      "Epoch 18 val_loss: 0.1047\n",
      "Epoch 19 val_loss: 0.1520\n",
      "Epoch 20 val_loss: 0.1790\n",
      "Epoch 21 val_loss: 0.1870\n",
      "Epoch 22 val_loss: 0.1780\n",
      "Epoch 23 val_loss: 0.1537\n",
      "Epoch 24 val_loss: 0.1156\n",
      "Epoch 25 val_loss: 0.0712\n",
      "Epoch 26 val_loss: 0.0593\n",
      "Epoch 27 val_loss: 0.0703\n",
      "Epoch 28 val_loss: 0.0874\n",
      "Epoch 29 val_loss: 0.1000\n",
      "Epoch 30 val_loss: 0.1030\n",
      "Epoch 31 val_loss: 0.0945\n",
      "Epoch 32 val_loss: 0.0757\n",
      "Epoch 33 val_loss: 0.0510\n",
      "Epoch 34 val_loss: 0.0303\n",
      "Epoch 35 val_loss: 0.0372\n",
      "Epoch 36 val_loss: 0.0547\n",
      "Epoch 37 val_loss: 0.0542\n",
      "Epoch 38 val_loss: 0.0375\n",
      "Epoch 39 val_loss: 0.0095\n",
      "Epoch 40 val_loss: 0.0253\n",
      "Epoch 41 val_loss: 0.0375\n",
      "Epoch 42 val_loss: 0.0321\n",
      "Epoch 43 val_loss: 0.0111\n",
      "Epoch 44 val_loss: 0.0241\n",
      "Epoch 45 val_loss: 0.0395\n",
      "Epoch 46 val_loss: 0.0371\n",
      "Epoch 47 val_loss: 0.0214\n",
      "Epoch 48 val_loss: 0.0134\n",
      "Epoch 49 val_loss: 0.0307\n",
      "Epoch 50 val_loss: 0.0335\n",
      "Epoch 51 val_loss: 0.0198\n",
      "Epoch 52 val_loss: 0.0166\n",
      "Epoch 53 val_loss: 0.0283\n",
      "Epoch 54 val_loss: 0.0304\n",
      "Epoch 55 val_loss: 0.0197\n",
      "Epoch 56 val_loss: 0.0084\n",
      "Epoch 57 val_loss: 0.0231\n",
      "Epoch 58 val_loss: 0.0231\n",
      "Epoch 59 val_loss: 0.0068\n",
      "Epoch 60 val_loss: 0.0241\n",
      "Epoch 61 val_loss: 0.0357\n",
      "Epoch 62 val_loss: 0.0299\n",
      "Epoch 63 val_loss: 0.0084\n",
      "Epoch 64 val_loss: 0.0272\n",
      "Epoch 65 val_loss: 0.0429\n",
      "Epoch 66 val_loss: 0.0409\n",
      "Epoch 67 val_loss: 0.0230\n",
      "Epoch 68 val_loss: 0.0099\n",
      "Epoch 69 val_loss: 0.0293\n",
      "Epoch 70 val_loss: 0.0316\n",
      "Epoch 71 val_loss: 0.0174\n",
      "Epoch 72 val_loss: 0.0139\n",
      "Epoch 73 val_loss: 0.0268\n",
      "Epoch 74 val_loss: 0.0243\n",
      "Epoch 75 val_loss: 0.0087\n",
      "Epoch 76 val_loss: 0.0196\n",
      "Epoch 77 val_loss: 0.0263\n",
      "Epoch 78 val_loss: 0.0160\n",
      "Epoch 79 val_loss: 0.0094\n"
     ]
    }
   ],
   "source": [
    "epoch = 80\n",
    "for e in range(epoch):\n",
    "    # Step 0 Setting the loop mode:\n",
    "    model.train()\n",
    "\n",
    "     # Step 3 downgrading the gradiant to zero with the optimizer opbject\n",
    "    optimizer.zero_grad()\n",
    "\n",
    "    # Step 1 Forward pass\n",
    "    preds = model(X_train)\n",
    "\n",
    "    # Step 2 Loss value computation\n",
    "    loss = loss_fn(preds,y_train)\n",
    "    print(f'Epoch {e} val_loss: {loss:.4f}')\n",
    "\n",
    "\n",
    "    # Step 4 Backward pass/propagation\n",
    "    loss.backward()\n",
    "\n",
    "    # Step 5 Gradient descent \n",
    "    optimizer.step()\n"
   ]
  },
  {
   "cell_type": "code",
   "execution_count": null,
   "metadata": {},
   "outputs": [],
   "source": [
    "fdsf"
   ]
  },
  {
   "cell_type": "code",
   "execution_count": 21,
   "metadata": {},
   "outputs": [
    {
     "data": {
      "text/plain": [
       "(Parameter containing:\n",
       " tensor([0.7096], requires_grad=True),\n",
       " Parameter containing:\n",
       " tensor([0.3085], requires_grad=True))"
      ]
     },
     "execution_count": 21,
     "metadata": {},
     "output_type": "execute_result"
    }
   ],
   "source": [
    "model.weight,model.bias"
   ]
  },
  {
   "cell_type": "markdown",
   "metadata": {},
   "source": [
    "# Ploating the prediction "
   ]
  },
  {
   "cell_type": "code",
   "execution_count": 22,
   "metadata": {},
   "outputs": [
    {
     "data": {
      "image/png": "[encoded data removed]",
      "text/plain": [
       "<Figure size 700x500 with 1 Axes>"
      ]
     },
     "metadata": {},
     "output_type": "display_data"
    }
   ],
   "source": [
    "preds = model(X_test)\n",
    "# Let us ploat the prediction\n",
    "data_visualizer(test_data = X_test, test_labels = y_test, predicted = preds.detach().numpy())"
   ]
  },
  {
   "cell_type": "code",
   "execution_count": 23,
   "metadata": {},
   "outputs": [
    {
     "data": {
      "text/plain": [
       "(Parameter containing:\n",
       " tensor([0.7096], requires_grad=True),\n",
       " Parameter containing:\n",
       " tensor([0.3085], requires_grad=True))"
      ]
     },
     "execution_count": 23,
     "metadata": {},
     "output_type": "execute_result"
    }
   ],
   "source": [
    "model.weight,model.bias"
   ]
  },
  {
   "cell_type": "markdown",
   "metadata": {},
   "source": [
    "# B. USING BUILT IN LINEAR MODEL"
   ]
  },
  {
   "cell_type": "markdown",
   "metadata": {},
   "source": [
    "# B.1 Model definition"
   ]
  },
  {
   "cell_type": "code",
   "execution_count": 24,
   "metadata": {},
   "outputs": [],
   "source": [
    "class LinearRegressionModelV2(nn.Module):\n",
    "    def __init__(self):\n",
    "        super().__init__()\n",
    "        self.linear_model = nn.Linear(in_features = 1,\n",
    "                                     out_features = 1)\n",
    "\n",
    "    def  forward(self, x: torch.Tensor()) ->  torch.Tensor:\n",
    "        return self.linear_model(x)"
   ]
  },
  {
   "cell_type": "markdown",
   "metadata": {},
   "source": [
    "# B.2 Indépendance du dispositif :\r\n",
    "> - Ici, nous essayons de vérifier le matériel utilisé afin que notre modèle puisse s'exécuter sur le matériel disponible.\r\n",
    "> - Par conséquent, les données et le modèle sont envoyés sur le dispositi.\r\n"
   ]
  },
  {
   "cell_type": "code",
   "execution_count": 25,
   "metadata": {},
   "outputs": [],
   "source": [
    "# Device agnostic\n",
    "if torch.cuda.is_available():\n",
    "    device = torch.device('cuda')\n",
    "else:\n",
    "    device = torch.device('cpu')\n",
    "\n",
    "# device agnostic for our data\n",
    "X_train,X_test,y_train,y_test = X_train.to(device),X_test.to(device),y_train.to(device),y_test.to(device)"
   ]
  },
  {
   "cell_type": "markdown",
   "metadata": {},
   "source": [
    "# B.3 Loss function and optimizer definintion"
   ]
  },
  {
   "cell_type": "code",
   "execution_count": 26,
   "metadata": {},
   "outputs": [],
   "source": [
    "# Instantiating our model\n",
    "model_v2 = LinearRegressionModelV2()\n",
    "\n",
    "# Device aagnostic for our model\n",
    "model_v2.to(device)\n",
    "\n",
    "# Cost function: this determine how good is our model\n",
    "loss_fn = nn.L1Loss()\n",
    "\n",
    "# Optimize: the target is to minimize the loss \n",
    "optimizer = torch.optim.SGD(params = model_v2.parameters(), lr = 0.01)"
   ]
  },
  {
   "cell_type": "markdown",
   "metadata": {},
   "source": [
    "# B.4 Pytorch training loop"
   ]
  },
  {
   "cell_type": "code",
   "execution_count": 27,
   "metadata": {},
   "outputs": [
    {
     "name": "stdout",
     "output_type": "stream",
     "text": [
      "Training loss: 1.74 || Evaluation loss: 2.60\n",
      "Training loss: 1.66 || Evaluation loss: 2.48\n",
      "Training loss: 1.58 || Evaluation loss: 2.36\n",
      "Training loss: 1.50 || Evaluation loss: 2.24\n",
      "Training loss: 1.42 || Evaluation loss: 2.12\n",
      "Training loss: 1.34 || Evaluation loss: 2.00\n",
      "Training loss: 1.26 || Evaluation loss: 1.88\n",
      "Training loss: 1.17 || Evaluation loss: 1.76\n",
      "Training loss: 1.09 || Evaluation loss: 1.64\n",
      "Training loss: 1.01 || Evaluation loss: 1.52\n",
      "Training loss: 0.93 || Evaluation loss: 1.39\n",
      "Training loss: 0.85 || Evaluation loss: 1.27\n",
      "Training loss: 0.77 || Evaluation loss: 1.15\n",
      "Training loss: 0.69 || Evaluation loss: 1.03\n",
      "Training loss: 0.61 || Evaluation loss: 0.91\n",
      "Training loss: 0.52 || Evaluation loss: 0.79\n",
      "Training loss: 0.44 || Evaluation loss: 0.67\n",
      "Training loss: 0.36 || Evaluation loss: 0.55\n",
      "Training loss: 0.28 || Evaluation loss: 0.43\n",
      "Training loss: 0.20 || Evaluation loss: 0.31\n",
      "Training loss: 0.12 || Evaluation loss: 0.19\n",
      "Training loss: 0.04 || Evaluation loss: 0.07\n",
      "Training loss: 0.01 || Evaluation loss: 0.02\n",
      "Training loss: 0.01 || Evaluation loss: 0.01\n",
      "Training loss: 0.00 || Evaluation loss: 0.02\n",
      "Training loss: 0.01 || Evaluation loss: 0.00\n",
      "Training loss: 0.00 || Evaluation loss: 0.02\n",
      "Training loss: 0.01 || Evaluation loss: 0.00\n",
      "Training loss: 0.00 || Evaluation loss: 0.02\n",
      "Training loss: 0.01 || Evaluation loss: 0.00\n",
      "Training loss: 0.00 || Evaluation loss: 0.02\n",
      "Training loss: 0.01 || Evaluation loss: 0.00\n",
      "Training loss: 0.00 || Evaluation loss: 0.02\n",
      "Training loss: 0.01 || Evaluation loss: 0.00\n",
      "Training loss: 0.00 || Evaluation loss: 0.02\n",
      "Training loss: 0.01 || Evaluation loss: 0.00\n",
      "Training loss: 0.00 || Evaluation loss: 0.02\n",
      "Training loss: 0.01 || Evaluation loss: 0.00\n",
      "Training loss: 0.00 || Evaluation loss: 0.02\n",
      "Training loss: 0.01 || Evaluation loss: 0.00\n"
     ]
    }
   ],
   "source": [
    "# Model passing through all the data sample\n",
    "epoch  = 200\n",
    "\n",
    "# Trainign loop:\n",
    "for e in range(epoch):\n",
    "\n",
    "    model.train()\n",
    "    # 1. predict on the xtest or Forward pass\n",
    "    preds = model_v2(X_train)\n",
    "\n",
    "    # 2 . loss calculation\n",
    "    loss = loss_fn(preds,y_train)\n",
    "\n",
    "    # 3. ZZero grading the optimizer\n",
    "    optimizer.zero_grad()\n",
    "\n",
    "    # 4. Backward propagation\n",
    "    loss.backward()\n",
    "\n",
    "    # gradient descent\n",
    "    optimizer.step()\n",
    "\n",
    "    # Switching to evaluation mode\n",
    "    model.eval()\n",
    "\n",
    "    # Evaluating the model on test dataset\n",
    "    with torch.inference_mode():\n",
    "\n",
    "        # predicting on test dataset\n",
    "        test_preds = model_v2(X_test)\n",
    "\n",
    "        # Evaluating on test data\n",
    "        loss_eval = loss_fn(test_preds,y_test)\n",
    "\n",
    "        # Printing the loss every ten epoch\n",
    "        if e % 5 == 0:\n",
    "            print(f'Training loss: {loss.detach().numpy():.2f} || Evaluation loss: {loss_eval.detach().numpy():.2f}')\n",
    "        \n"
   ]
  },
  {
   "cell_type": "code",
   "execution_count": 28,
   "metadata": {},
   "outputs": [
    {
     "data": {
      "image/png": "[encoded data removed]",
      "text/plain": [
       "<Figure size 700x500 with 1 Axes>"
      ]
     },
     "metadata": {},
     "output_type": "display_data"
    }
   ],
   "source": [
    "preds = model_v2(X_test)\n",
    "# Let us ploat the prediction\n",
    "data_visualizer(test_data = X_test, test_labels = y_test, predicted = preds.detach().numpy())"
   ]
  },
  {
   "cell_type": "markdown",
   "metadata": {},
   "source": [
    "# B.5 Création d'un nouveau dossier pour enregistrer le modèle\n"
   ]
  },
  {
   "cell_type": "code",
   "execution_count": null,
   "metadata": {},
   "outputs": [],
   "source": [
    "import os\n",
    "model_v2.state_dict()\n",
    "\n",
    "if not os.path.exists('./models'):\n",
    "    os.makedirs('./models')\n",
    "\n",
    "path = os.path.join('./models','linear_regressioinV2.pt')\n",
    "path "
   ]
  },
  {
   "cell_type": "markdown",
   "metadata": {},
   "source": [
    "# B.6 Enregistrement du model"
   ]
  },
  {
   "cell_type": "code",
   "execution_count": null,
   "metadata": {},
   "outputs": [],
   "source": [
    "# Saving the model\n",
    "torch.save(model_v2,f= path)"
   ]
  },
  {
   "cell_type": "markdown",
   "metadata": {},
   "source": [
    "# B.7 Faire appel au model"
   ]
  },
  {
   "cell_type": "code",
   "execution_count": null,
   "metadata": {},
   "outputs": [],
   "source": [
    "# Loading the saved model\n",
    "loaded_model = torch.load(path)"
   ]
  },
  {
   "cell_type": "code",
   "execution_count": null,
   "metadata": {},
   "outputs": [],
   "source": [
    "loaded_model.state_dict()"
   ]
  },
  {
   "cell_type": "code",
   "execution_count": null,
   "metadata": {},
   "outputs": [],
   "source": [
    "model_v2,loaded_model"
   ]
  },
  {
   "cell_type": "markdown",
   "metadata": {},
   "source": [
    "# B.9 Predire avec le model"
   ]
  },
  {
   "cell_type": "code",
   "execution_count": null,
   "metadata": {},
   "outputs": [],
   "source": [
    "new_data = torch.arange(2.02,3,step).unsqueeze(dim=1)\n",
    "ground_truth = 0.7*new_data + 0.3"
   ]
  },
  {
   "cell_type": "code",
   "execution_count": null,
   "metadata": {},
   "outputs": [],
   "source": [
    "# Predicting on new data\n",
    "with torch.no_grad():\n",
    "    predictions = loaded_model(new_data)"
   ]
  },
  {
   "cell_type": "code",
   "execution_count": null,
   "metadata": {},
   "outputs": [],
   "source": [
    "predictions[:5]"
   ]
  },
  {
   "cell_type": "code",
   "execution_count": null,
   "metadata": {},
   "outputs": [],
   "source": [
    "# computing the expected output of the first element of the unseen data\n",
    "0.7*2.02 + 0.3,predictions[:1]"
   ]
  },
  {
   "cell_type": "code",
   "execution_count": null,
   "metadata": {},
   "outputs": [],
   "source": [
    "new_loss = torch.nn.L1Loss()"
   ]
  },
  {
   "cell_type": "code",
   "execution_count": null,
   "metadata": {},
   "outputs": [],
   "source": [
    "print(f\"The Mean absolute error on unseen data is: {float(new_loss(predictions,ground_truth)):.5f}\")"
   ]
  },
  {
   "cell_type": "markdown",
   "metadata": {},
   "source": [
    "# THANK YOU FOR ATTENDING THE WEBINAIRE"
   ]
  },
  {
   "cell_type": "code",
   "execution_count": null,
   "metadata": {},
   "outputs": [],
   "source": []
  },
  {
   "cell_type": "code",
   "execution_count": null,
   "metadata": {},
   "outputs": [],
   "source": []
  }
 ],
 "metadata": {
  "colab": {
   "provenance": []
  },
  "kernelspec": {
   "display_name": "Python 3 (ipykernel)",
   "language": "python",
   "name": "python3"
  },
  "language_info": {
   "codemirror_mode": {
    "name": "ipython",
    "version": 3
   },
   "file_extension": ".py",
   "mimetype": "text/x-python",
   "name": "python",
   "nbconvert_exporter": "python",
   "pygments_lexer": "ipython3",
   "version": "3.11.7"
  }
 },
 "nbformat": 4,
 "nbformat_minor": 4
}

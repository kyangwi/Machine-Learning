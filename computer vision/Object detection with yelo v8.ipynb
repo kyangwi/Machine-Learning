{
 "cells": [
  {
   "cell_type": "code",
   "execution_count": 1,
   "id": "15fd927f-90a8-4237-911f-e0e2b33e0085",
   "metadata": {},
   "outputs": [],
   "source": [
    "import cv2\n",
    "from ultralytics import YOLO"
   ]
  },
  {
   "cell_type": "code",
   "execution_count": 2,
   "id": "f5a3e223-6904-4462-960a-9b1570072095",
   "metadata": {},
   "outputs": [
    {
     "name": "stdout",
     "output_type": "stream",
     "text": [
      "Requirement already satisfied: opencv-python in c:\\users\\josh\\desktop\\machine_learning\\env\\lib\\site-packages (4.9.0.80)\n",
      "Requirement already satisfied: numpy>=1.21.2 in c:\\users\\josh\\desktop\\machine_learning\\env\\lib\\site-packages (from opencv-python) (1.26.3)\n"
     ]
    }
   ],
   "source": [
    "!pip install opencv-python"
   ]
  },
  {
   "cell_type": "code",
   "execution_count": null,
   "id": "f4e9fac7-8e02-450d-b64f-15602a2b7ec2",
   "metadata": {},
   "outputs": [],
   "source": [
    "\n",
    "\n",
    "# Load the model\n",
    "model = YOLO('yolov8n.pt')\n",
    "\n",
    "# Open the webcam\n",
    "cap = cv2.VideoCapture(0)\n",
    "\n",
    "while True:\n",
    "    # Read a frame from the webcam\n",
    "    ret, frame = cap.read()\n",
    "\n",
    "    # Check if the frame is not None\n",
    "    if frame is not None:\n",
    "        # Make predictions on the frame\n",
    "        results = model(frame)\n",
    "\n",
    "        # Process results\n",
    "        for result in results:\n",
    "            boxes = result.boxes\n",
    "            # Loop through the detections\n",
    "            for box in boxes.data:\n",
    "                # Get the coordinates of the bounding box\n",
    "                x1, y1, x2, y2 = box[:4]\n",
    "                x1, y1, x2, y2 = int(x1), int(y1), int(x2), int(y2)\n",
    "\n",
    "                # Get the label and confidence score\n",
    "                label = box[5]\n",
    "                score = box[4]\n",
    "\n",
    "                # Draw the bounding box and label on the frame\n",
    "                cv2.rectangle(frame, (x1, y1), (x2, y2), (0,255,0), 2)\n",
    "                cv2.putText(frame, f'{model.names[int(label)]} {score*100:.1f}%', (x1, y1 - 10), cv2.FONT_HERSHEY_SIMPLEX, 0.5, (0, 255, 0), 2)\n",
    "\n",
    "        # Display the frame\n",
    "        cv2.imshow('Object detection',frame)\n",
    "\n",
    "    # Break the loop if 'q' is pressed\n",
    "    if cv2.waitKey(1) & 0xFF == ord('q'):\n",
    "        break\n",
    "\n",
    "# Release the webcam and destroy all windows\n",
    "cap.release()\n",
    "cv2.destroyAllWindows()\n"
   ]
  },
  {
   "cell_type": "code",
   "execution_count": null,
   "id": "0d347e07-b319-4818-9c9b-1c92e6823883",
   "metadata": {},
   "outputs": [],
   "source": []
  },
  {
   "cell_type": "code",
   "execution_count": null,
   "id": "22e69c57-1ab5-4b25-94b8-2f1af93c81e6",
   "metadata": {},
   "outputs": [],
   "source": []
  }
 ],
 "metadata": {
  "kernelspec": {
   "display_name": "Python 3 (ipykernel)",
   "language": "python",
   "name": "python3"
  },
  "language_info": {
   "codemirror_mode": {
    "name": "ipython",
    "version": 3
   },
   "file_extension": ".py",
   "mimetype": "text/x-python",
   "name": "python",
   "nbconvert_exporter": "python",
   "pygments_lexer": "ipython3",
   "version": "3.11.7"
  }
 },
 "nbformat": 4,
 "nbformat_minor": 5
}

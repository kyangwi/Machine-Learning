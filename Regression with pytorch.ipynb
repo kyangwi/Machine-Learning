{
 "cells": [
  {
   "cell_type": "code",
   "execution_count": 2,
   "id": "44fe0dca-e363-43aa-97b4-78b1a6ea91b3",
   "metadata": {},
   "outputs": [],
   "source": [
    "import torch\n",
    "from torch import nn\n",
    "import matplotlib.pyplot as plt"
   ]
  },
  {
   "cell_type": "markdown",
   "id": "bb5be6d9-c2fd-4795-a784-4256b164a25e",
   "metadata": {},
   "source": [
    "# 1. Creating data:\n",
    "Data can be anything in machine learningwe can have structured and unstructured one\n",
    "  \n",
    "- 1.1. Structured data: excel spreadsheet, all kind of tabular data\n",
    "- 1.2. Unstructurred data: Videos, audios, picturre, texts...\n",
    "\n",
    "Machine learning always consist of two parts:\n",
    "> 1. Getting data into numerical representation\n",
    "> 2. Building model to learn patterns in that numerical data\n",
    "\n",
    "Our data will be composed of a typical linear regression formula: The straight line equation : <strong>  y = ax + b</strong> let's name <b>a</b> as weight and <b>b</b> as bias: and all of them will be called <b>parameters</b>\n",
    "\n",
    "Here are our parameters: y = 0.7x + 0.3,\n",
    "hence  weight = 0.7 ans bias = 0.3\n",
    "\n",
    "What is Regression<b>🤔</b>?\n",
    "> In machine learning a regression problem can be looked as the capacity of a machine learning model to predict a number, this can be anything!\n",
    "\n"
   ]
  },
  {
   "cell_type": "code",
   "execution_count": 14,
   "id": "85f4c830-1677-4bdb-8cb7-2f83ded50624",
   "metadata": {},
   "outputs": [
    {
     "ename": "AttributeError",
     "evalue": "module 'torch' has no attribute 'arange'",
     "output_type": "error",
     "traceback": [
      "\u001b[1;31m---------------------------------------------------------------------------\u001b[0m",
      "\u001b[1;31mAttributeError\u001b[0m                            Traceback (most recent call last)",
      "Cell \u001b[1;32mIn[14], line 11\u001b[0m\n\u001b[0;32m      7\u001b[0m end \u001b[38;5;241m=\u001b[39m \u001b[38;5;241m1\u001b[39m\n\u001b[0;32m      9\u001b[0m step \u001b[38;5;241m=\u001b[39m \u001b[38;5;241m0.02\u001b[39m\n\u001b[1;32m---> 11\u001b[0m X \u001b[38;5;241m=\u001b[39m torch\u001b[38;5;241m.\u001b[39marange(start,end,step)\n",
      "\u001b[1;31mAttributeError\u001b[0m: module 'torch' has no attribute 'arange'"
     ]
    }
   ],
   "source": [
    "#creating *known* parameters\n",
    "weight = 0.7\n",
    "bias = 0.3\n",
    "\n",
    "# creating our data\n",
    "stat = 0\n",
    "end = 1\n",
    "\n",
    "step = 0.02\n",
    "\n",
    "X = torch.arange(start,end,step)\n"
   ]
  },
  {
   "cell_type": "code",
   "execution_count": null,
   "id": "c98d7867-e439-4851-ad22-820de4dda9e6",
   "metadata": {},
   "outputs": [],
   "source": []
  }
 ],
 "metadata": {
  "kernelspec": {
   "display_name": "Python 3 (ipykernel)",
   "language": "python",
   "name": "python3"
  },
  "language_info": {
   "codemirror_mode": {
    "name": "ipython",
    "version": 3
   },
   "file_extension": ".py",
   "mimetype": "text/x-python",
   "name": "python",
   "nbconvert_exporter": "python",
   "pygments_lexer": "ipython3",
   "version": "3.11.7"
  }
 },
 "nbformat": 4,
 "nbformat_minor": 5
}

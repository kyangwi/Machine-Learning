{
 "cells": [
  {
   "cell_type": "code",
   "execution_count": 1,
   "id": "7db5c765-a3fc-414f-b0a9-5bb33a6f472b",
   "metadata": {},
   "outputs": [
    {
     "name": "stderr",
     "output_type": "stream",
     "text": [
      "C:\\Users\\Josh\\Desktop\\Machine_learning\\env\\Lib\\site-packages\\pandas\\core\\arrays\\masked.py:60: UserWarning: Pandas requires version '1.3.6' or newer of 'bottleneck' (version '1.3.5' currently installed).\n",
      "  from pandas.core import (\n"
     ]
    }
   ],
   "source": [
    "import pandas as pd\n",
    "import numpy as np\n",
    "import matplotlib.pyplot as plt \n",
    "from nltk.corpus import stopwords\n",
    "from nltk.stem import WordNetLemmatizer\n",
    "from nltk.tokenize import word_tokenize\n",
    "from nltk.stem import SnowballStemmer\n",
    "from sklearn.feature_extraction.text import CountVectorizer,TfidfVectorizer\n",
    "from sklearn.model_selection import train_test_split\n",
    "from sklearn.naive_bayes import GaussianNB,MultinomialNB,BernoulliNB\n",
    "from sklearn.metrics import accuracy_score\n",
    "import joblib\n",
    "import re "
   ]
  },
  {
   "cell_type": "code",
   "execution_count": 2,
   "id": "c5138d26-ad18-4e8e-9ab7-dab759f9928b",
   "metadata": {},
   "outputs": [
    {
     "name": "stderr",
     "output_type": "stream",
     "text": [
      "[nltk_data] Downloading package stopwords to\n",
      "[nltk_data]     C:\\Users\\Josh\\AppData\\Roaming\\nltk_data...\n",
      "[nltk_data]   Package stopwords is already up-to-date!\n",
      "[nltk_data] Downloading package punkt to\n",
      "[nltk_data]     C:\\Users\\Josh\\AppData\\Roaming\\nltk_data...\n",
      "[nltk_data]   Package punkt is already up-to-date!\n",
      "[nltk_data] Downloading package wordnet to\n",
      "[nltk_data]     C:\\Users\\Josh\\AppData\\Roaming\\nltk_data...\n"
     ]
    },
    {
     "data": {
      "text/plain": [
       "True"
      ]
     },
     "execution_count": 2,
     "metadata": {},
     "output_type": "execute_result"
    }
   ],
   "source": [
    "import nltk\n",
    "nltk.download('stopwords')\n",
    "nltk.download('punkt')\n",
    "nltk.download('wordnet')"
   ]
  },
  {
   "cell_type": "code",
   "execution_count": 3,
   "id": "b372e38d-f802-4551-b477-6187f57c0164",
   "metadata": {},
   "outputs": [],
   "source": [
    "path_directory = './Gender Based Violence/'"
   ]
  },
  {
   "cell_type": "markdown",
   "id": "48012692-0447-4caf-9d50-d93ea1b98e13",
   "metadata": {},
   "source": [
    "# 1. Reading the data "
   ]
  },
  {
   "cell_type": "code",
   "execution_count": 4,
   "id": "ac37eb0e-9045-494b-bfa5-e0e6346f2644",
   "metadata": {},
   "outputs": [],
   "source": [
    "train = pd.read_csv(path_directory + 'spam.csv')"
   ]
  },
  {
   "cell_type": "markdown",
   "id": "603c2280-fa42-4bc1-8916-c11d0670e823",
   "metadata": {},
   "source": [
    "# 2. Data visualisation"
   ]
  },
  {
   "cell_type": "code",
   "execution_count": 5,
   "id": "d38d698f-59cb-4294-9f38-474d559ecaa8",
   "metadata": {},
   "outputs": [
    {
     "data": {
      "text/html": [
       "<div>\n",
       "<style scoped>\n",
       "    .dataframe tbody tr th:only-of-type {\n",
       "        vertical-align: middle;\n",
       "    }\n",
       "\n",
       "    .dataframe tbody tr th {\n",
       "        vertical-align: top;\n",
       "    }\n",
       "\n",
       "    .dataframe thead th {\n",
       "        text-align: right;\n",
       "    }\n",
       "</style>\n",
       "<table border=\"1\" class=\"dataframe\">\n",
       "  <thead>\n",
       "    <tr style=\"text-align: right;\">\n",
       "      <th></th>\n",
       "      <th>text</th>\n",
       "      <th>target</th>\n",
       "    </tr>\n",
       "  </thead>\n",
       "  <tbody>\n",
       "    <tr>\n",
       "      <th>0</th>\n",
       "      <td>From ilug-admin@linux.ie Mon Jul 29 11:28:02 2...</td>\n",
       "      <td>0</td>\n",
       "    </tr>\n",
       "    <tr>\n",
       "      <th>1</th>\n",
       "      <td>From gort44@excite.com Mon Jun 24 17:54:21 200...</td>\n",
       "      <td>1</td>\n",
       "    </tr>\n",
       "    <tr>\n",
       "      <th>2</th>\n",
       "      <td>From fork-admin@xent.com Mon Jul 29 11:39:57 2...</td>\n",
       "      <td>1</td>\n",
       "    </tr>\n",
       "    <tr>\n",
       "      <th>3</th>\n",
       "      <td>From dcm123@btamail.net.cn Mon Jun 24 17:49:23...</td>\n",
       "      <td>1</td>\n",
       "    </tr>\n",
       "    <tr>\n",
       "      <th>4</th>\n",
       "      <td>From ilug-admin@linux.ie Mon Aug 19 11:02:47 2...</td>\n",
       "      <td>0</td>\n",
       "    </tr>\n",
       "  </tbody>\n",
       "</table>\n",
       "</div>"
      ],
      "text/plain": [
       "                                                text  target\n",
       "0  From ilug-admin@linux.ie Mon Jul 29 11:28:02 2...       0\n",
       "1  From gort44@excite.com Mon Jun 24 17:54:21 200...       1\n",
       "2  From fork-admin@xent.com Mon Jul 29 11:39:57 2...       1\n",
       "3  From dcm123@btamail.net.cn Mon Jun 24 17:49:23...       1\n",
       "4  From ilug-admin@linux.ie Mon Aug 19 11:02:47 2...       0"
      ]
     },
     "metadata": {},
     "output_type": "display_data"
    },
    {
     "data": {
      "text/plain": [
       "(5796, 2)"
      ]
     },
     "metadata": {},
     "output_type": "display_data"
    }
   ],
   "source": [
    "display(train.head(),train.shape)"
   ]
  },
  {
   "cell_type": "code",
   "execution_count": 6,
   "id": "6ae4fc4f-a284-42dd-8136-d09f6f8c86fc",
   "metadata": {},
   "outputs": [
    {
     "data": {
      "text/plain": [
       "target\n",
       "0    3900\n",
       "1    1896\n",
       "Name: count, dtype: int64"
      ]
     },
     "execution_count": 6,
     "metadata": {},
     "output_type": "execute_result"
    }
   ],
   "source": [
    "train.target.value_counts()"
   ]
  },
  {
   "cell_type": "code",
   "execution_count": 7,
   "id": "06de92ee-2799-4475-a4bd-d57a42b85216",
   "metadata": {},
   "outputs": [
    {
     "data": {
      "image/png": "[encoded data removed]",
      "text/plain": [
       "<Figure size 500x500 with 1 Axes>"
      ]
     },
     "metadata": {},
     "output_type": "display_data"
    }
   ],
   "source": [
    "# Assuming 'train' is your DataFrame and 'type' is the column you're interested in\n",
    "counts = train['target'].value_counts()\n",
    "\n",
    "# Create a bar chart\n",
    "plt.figure(figsize=(5, 5))\n",
    "counts.plot(kind='bar')\n",
    "\n",
    "# Add labels and title\n",
    "plt.xlabel('Train Type')\n",
    "plt.ylabel('Count')\n",
    "plt.title('Count of Each Train Type')\n",
    "\n",
    "# Show the plot\n",
    "plt.show()"
   ]
  },
  {
   "cell_type": "code",
   "execution_count": 8,
   "id": "6bcd5972-bb92-44b8-a1f5-5b7501729fbf",
   "metadata": {},
   "outputs": [],
   "source": [
    "# import warnings \n",
    "# warnings.filterwarnings('ignore')\n",
    "# train.type.replace('sexual_violence', 1, inplace=True)\n",
    "# train.type.replace('Physical_violence', 2, inplace=True)\n",
    "# train.type.replace('emotional_violence', 3, inplace=True)\n",
    "# train.type.replace('economic_violence', 4, inplace=True)\n",
    "# train.type.replace('Harmful_Traditional_practice', 5, inplace=True)"
   ]
  },
  {
   "cell_type": "markdown",
   "id": "c54d2da4-0bc7-4d10-a606-f68605f18b73",
   "metadata": {},
   "source": [
    "# 3. Data cleaning\n",
    "\n",
    "> Clean dataset reviews as following:\n",
    "> 1. Remove HTML tags\n",
    "2. Remove special characters\n",
    "3. Convert everything to lowercase\n",
    "4. Remove stopwords\n",
    "5. Stemming"
   ]
  },
  {
   "cell_type": "code",
   "execution_count": 9,
   "id": "d5e07a29-86b6-4b43-95d9-46d2ac846984",
   "metadata": {},
   "outputs": [],
   "source": [
    "# 3.1 Remove HTML tags\n",
    "def clean(text):\n",
    "    cleaned = re.compile(r'<.*?>')\n",
    "    return re.sub(cleaned,'',text)"
   ]
  },
  {
   "cell_type": "code",
   "execution_count": 10,
   "id": "a7a55d88-4437-4285-a249-89627c00f4d2",
   "metadata": {},
   "outputs": [],
   "source": [
    "# 3.2 Remove special characters\n",
    "def is_special(text):\n",
    "    my_text = ''\n",
    "    for i in text:\n",
    "        if i.isalnum():\n",
    "            my_text = my_text + i\n",
    "        else:\n",
    "            my_text = my_text + ' '\n",
    "    return my_text"
   ]
  },
  {
   "cell_type": "code",
   "execution_count": 11,
   "id": "3567b47a-2d78-428e-9ea9-d5b303329637",
   "metadata": {},
   "outputs": [],
   "source": [
    "# 3.3 Convert everything to lowercase\n",
    "def to_lower(text):\n",
    "    return text.lower()"
   ]
  },
  {
   "cell_type": "code",
   "execution_count": 12,
   "id": "29b5b3d6-278b-4867-aa50-a9549dd59d46",
   "metadata": {},
   "outputs": [],
   "source": [
    "#3.4 Remove stopwords\n",
    "def rem_stopwords(text):\n",
    "    stop_words = set(stopwords.words('english'))\n",
    "    words = word_tokenize(text)\n",
    "    return [w for w in words if w not in stop_words]"
   ]
  },
  {
   "cell_type": "code",
   "execution_count": 13,
   "id": "67840f66-4ffd-45f3-90cd-e1de0e02da9d",
   "metadata": {},
   "outputs": [],
   "source": [
    "# # 3.5 Stem the words\n",
    "# def stem_txt(text):\n",
    "#     ss = SnowballStemmer('english')\n",
    "#     return \" \".join([ss.stem(w) for w in text])\n",
    "\n",
    "\n",
    "\n",
    "def stem_txt(text):\n",
    "    lemmatizer = WordNetLemmatizer()\n",
    "    return \" \".join([lemmatizer.lemmatize(w) for w in text])\n"
   ]
  },
  {
   "cell_type": "code",
   "execution_count": 14,
   "id": "5c64947b-60a9-41b2-bd7c-dca8dc36e3a4",
   "metadata": {},
   "outputs": [
    {
     "name": "stdout",
     "output_type": "stream",
     "text": [
      "1. Review sample after removing HTML tags : \n",
      "From ilug-admin@linux.ie Mon Jul 29 11:28:02 2002 Return-Path:  Delivered-To: yyyy@localhost.netnoteinc.com Received: from localhost (localhost [127.0.0.1]) by phobos.labs.netnoteinc.com (Postfix) with ESMTP id A13D94414F for ; Mon, 29 Jul 2002 06:25:11 -0400 (EDT) Received: from phobos [127.0.0.1] by localhost with IMAP (fetchmail-5.9.0) for jm@localhost (single-drop); Mon, 29 Jul 2002 11:25:11 +0100 (IST) Received: from lugh.tuatha.org (root@lugh.tuatha.org [194.125.145.45]) by dogma.slashnull.org (8.11.6/8.11.6) with ESMTP id g6RHn7i17130 for ; Sat, 27 Jul 2002 18:49:07 +0100 Received: from lugh (root@localhost [127.0.0.1]) by lugh.tuatha.org (8.9.3/8.9.3) with ESMTP id SAA25016; Sat, 27 Jul 2002 18:45:03 +0100 X-Authentication-Warning: lugh.tuatha.org: Host root@localhost [127.0.0.1] claimed to be lugh Received: from mail1.mail.iol.ie (mail1.mail.iol.ie [194.125.2.192]) by lugh.tuatha.org (8.9.3/8.9.3) with ESMTP id SAA24977 for ; Sat, 27 Jul 2002 18:44:56 +0100 Received: from dialup125-a.ts551.cwt.esat.net ([193.203.140.125] helo=Hobbiton.cod.ie) by mail1.mail.iol.ie with esmtp (Exim 3.35 #1) id 17YVVF-0001W4-00 for ilug@linux.ie; Sat, 27 Jul 2002 18:37:18 +0100 Received: (from cdaly@localhost) by Hobbiton.cod.ie (8.11.6/8.9.3) id g6RDRoO04681 for ilug@linux.ie; Sat, 27 Jul 2002 14:27:50 +0100 Date: Sat, 27 Jul 2002 14:27:49 +0100 From: Conor Daly  To: ILUG main list  Subject: Re: [ILUG] Architecture crossover trouble w RH7.2 (solved) Message-Id:  Mail-Followup-To: ILUG main list  References:  MIME-Version: 1.0 Content-Type: text/plain; charset=us-ascii Content-Disposition: inline User-Agent: Mutt/1.2.5i In-Reply-To: ; from conor_wynne@maxtor.com on Fri, Jul 26, 2002 at 03:56:22PM +0100 Sender: ilug-admin@linux.ie Errors-To: ilug-admin@linux.ie X-Mailman-Version: 1.1 Precedence: bulk List-Id: Irish Linux Users' Group  X-Beenthere: ilug@linux.ie On Fri, Jul 26, 2002 at 03:56:22PM +0100 or so it is rumoured hereabouts, Wynne, Conor thought: > Surely it would be faster to save you conf files, install it on the box > again, copy back you confs and voila. > All you car about are the confs as the boite has no DATA right? Yeah, but then I'd have to remember _exactly_ which confs I'd modified and they're not all in /etc either... > Thats what I would do, but you sysadmins have to make life as difficult & > complicated as possible ;--) Yup... In this case, I had two issues. 1. I mirrored the disk to give to someone else to work on but the box he has available has only a P1 or P2 processor. 2. My celeron box has been crashing the backup software so I wanted to try out the backup in a different box to make sure it's hardware related. Again, it's also an interesting exercise... > Have you thought about mirroring the system drives? Might save you serious > hassle down the line. Oh, I'm doing that too. This is going to Africa so I'm aiming for as robust as possible with belt, braces and probably an all-in-one jumpsuit! I'll be mirroring the disk but that is worth only so much (eg. lightning strike taking out the disk(s) or system compromise) I'm also going for a backup to CDR with an automated restore http://www.mondorescue.org . The admin out there wouldn't be able to build the system again if the mobo got fried and the replacement was the wrong arch but an i386 compatible install will mean just dropping in the HD and booting (ish)... Conor -- Conor Daly  Domestic Sysadmin :-) --------------------- Faenor.cod.ie 2:32pm up 64 days, 23:49, 0 users, load average: 0.00, 0.00, 0.00 Hobbiton.cod.ie 2:19pm up 7 days, 20:56, 1 user, load average: 0.05, 0.02, 0.00 -- Irish Linux Users' Group: ilug@linux.ie http://www.linux.ie/mailman/listinfo/ilug for (un)subscription information. List maintainer: listmaster@linux.ie\n",
      "\n",
      "2. Review sample after removing special characters : \n",
      "From ilug admin linux ie Mon Jul 29 11 28 02 2002 Return Path   Delivered To  yyyy localhost netnoteinc com Received  from localhost  localhost  127 0 0 1   by phobos labs netnoteinc com  Postfix  with ESMTP id A13D94414F for   Mon  29 Jul 2002 06 25 11  0400  EDT  Received  from phobos  127 0 0 1  by localhost with IMAP  fetchmail 5 9 0  for jm localhost  single drop   Mon  29 Jul 2002 11 25 11  0100  IST  Received  from lugh tuatha org  root lugh tuatha org  194 125 145 45   by dogma slashnull org  8 11 6 8 11 6  with ESMTP id g6RHn7i17130 for   Sat  27 Jul 2002 18 49 07  0100 Received  from lugh  root localhost  127 0 0 1   by lugh tuatha org  8 9 3 8 9 3  with ESMTP id SAA25016  Sat  27 Jul 2002 18 45 03  0100 X Authentication Warning  lugh tuatha org  Host root localhost  127 0 0 1  claimed to be lugh Received  from mail1 mail iol ie  mail1 mail iol ie  194 125 2 192   by lugh tuatha org  8 9 3 8 9 3  with ESMTP id SAA24977 for   Sat  27 Jul 2002 18 44 56  0100 Received  from dialup125 a ts551 cwt esat net   193 203 140 125  helo Hobbiton cod ie  by mail1 mail iol ie with esmtp  Exim 3 35  1  id 17YVVF 0001W4 00 for ilug linux ie  Sat  27 Jul 2002 18 37 18  0100 Received   from cdaly localhost  by Hobbiton cod ie  8 11 6 8 9 3  id g6RDRoO04681 for ilug linux ie  Sat  27 Jul 2002 14 27 50  0100 Date  Sat  27 Jul 2002 14 27 49  0100 From  Conor Daly  To  ILUG main list  Subject  Re   ILUG  Architecture crossover trouble w RH7 2  solved  Message Id   Mail Followup To  ILUG main list  References   MIME Version  1 0 Content Type  text plain  charset us ascii Content Disposition  inline User Agent  Mutt 1 2 5i In Reply To    from conor wynne maxtor com on Fri  Jul 26  2002 at 03 56 22PM  0100 Sender  ilug admin linux ie Errors To  ilug admin linux ie X Mailman Version  1 1 Precedence  bulk List Id  Irish Linux Users  Group  X Beenthere  ilug linux ie On Fri  Jul 26  2002 at 03 56 22PM  0100 or so it is rumoured hereabouts  Wynne  Conor thought    Surely it would be faster to save you conf files  install it on the box   again  copy back you confs and voila    All you car about are the confs as the boite has no DATA right  Yeah  but then I d have to remember  exactly  which confs I d modified and they re not all in  etc either      Thats what I would do  but you sysadmins have to make life as difficult     complicated as possible      Yup    In this case  I had two issues  1  I mirrored the disk to give to someone else to work on but the box he has available has only a P1 or P2 processor  2  My celeron box has been crashing the backup software so I wanted to try out the backup in a different box to make sure it s hardware related  Again  it s also an interesting exercise      Have you thought about mirroring the system drives  Might save you serious   hassle down the line  Oh  I m doing that too  This is going to Africa so I m aiming for as robust as possible with belt  braces and probably an all in one jumpsuit  I ll be mirroring the disk but that is worth only so much  eg  lightning strike taking out the disk s  or system compromise  I m also going for a backup to CDR with an automated restore http   www mondorescue org   The admin out there wouldn t be able to build the system again if the mobo got fried and the replacement was the wrong arch but an i386 compatible install will mean just dropping in the HD and booting  ish     Conor    Conor Daly  Domestic Sysadmin                           Faenor cod ie 2 32pm up 64 days  23 49  0 users  load average  0 00  0 00  0 00 Hobbiton cod ie 2 19pm up 7 days  20 56  1 user  load average  0 05  0 02  0 00    Irish Linux Users  Group  ilug linux ie http   www linux ie mailman listinfo ilug for  un subscription information  List maintainer  listmaster linux ie\n",
      "\n",
      "3. Review sample after converting everything to lowercase : \n",
      "from ilug admin linux ie mon jul 29 11 28 02 2002 return path   delivered to  yyyy localhost netnoteinc com received  from localhost  localhost  127 0 0 1   by phobos labs netnoteinc com  postfix  with esmtp id a13d94414f for   mon  29 jul 2002 06 25 11  0400  edt  received  from phobos  127 0 0 1  by localhost with imap  fetchmail 5 9 0  for jm localhost  single drop   mon  29 jul 2002 11 25 11  0100  ist  received  from lugh tuatha org  root lugh tuatha org  194 125 145 45   by dogma slashnull org  8 11 6 8 11 6  with esmtp id g6rhn7i17130 for   sat  27 jul 2002 18 49 07  0100 received  from lugh  root localhost  127 0 0 1   by lugh tuatha org  8 9 3 8 9 3  with esmtp id saa25016  sat  27 jul 2002 18 45 03  0100 x authentication warning  lugh tuatha org  host root localhost  127 0 0 1  claimed to be lugh received  from mail1 mail iol ie  mail1 mail iol ie  194 125 2 192   by lugh tuatha org  8 9 3 8 9 3  with esmtp id saa24977 for   sat  27 jul 2002 18 44 56  0100 received  from dialup125 a ts551 cwt esat net   193 203 140 125  helo hobbiton cod ie  by mail1 mail iol ie with esmtp  exim 3 35  1  id 17yvvf 0001w4 00 for ilug linux ie  sat  27 jul 2002 18 37 18  0100 received   from cdaly localhost  by hobbiton cod ie  8 11 6 8 9 3  id g6rdroo04681 for ilug linux ie  sat  27 jul 2002 14 27 50  0100 date  sat  27 jul 2002 14 27 49  0100 from  conor daly  to  ilug main list  subject  re   ilug  architecture crossover trouble w rh7 2  solved  message id   mail followup to  ilug main list  references   mime version  1 0 content type  text plain  charset us ascii content disposition  inline user agent  mutt 1 2 5i in reply to    from conor wynne maxtor com on fri  jul 26  2002 at 03 56 22pm  0100 sender  ilug admin linux ie errors to  ilug admin linux ie x mailman version  1 1 precedence  bulk list id  irish linux users  group  x beenthere  ilug linux ie on fri  jul 26  2002 at 03 56 22pm  0100 or so it is rumoured hereabouts  wynne  conor thought    surely it would be faster to save you conf files  install it on the box   again  copy back you confs and voila    all you car about are the confs as the boite has no data right  yeah  but then i d have to remember  exactly  which confs i d modified and they re not all in  etc either      thats what i would do  but you sysadmins have to make life as difficult     complicated as possible      yup    in this case  i had two issues  1  i mirrored the disk to give to someone else to work on but the box he has available has only a p1 or p2 processor  2  my celeron box has been crashing the backup software so i wanted to try out the backup in a different box to make sure it s hardware related  again  it s also an interesting exercise      have you thought about mirroring the system drives  might save you serious   hassle down the line  oh  i m doing that too  this is going to africa so i m aiming for as robust as possible with belt  braces and probably an all in one jumpsuit  i ll be mirroring the disk but that is worth only so much  eg  lightning strike taking out the disk s  or system compromise  i m also going for a backup to cdr with an automated restore http   www mondorescue org   the admin out there wouldn t be able to build the system again if the mobo got fried and the replacement was the wrong arch but an i386 compatible install will mean just dropping in the hd and booting  ish     conor    conor daly  domestic sysadmin                           faenor cod ie 2 32pm up 64 days  23 49  0 users  load average  0 00  0 00  0 00 hobbiton cod ie 2 19pm up 7 days  20 56  1 user  load average  0 05  0 02  0 00    irish linux users  group  ilug linux ie http   www linux ie mailman listinfo ilug for  un subscription information  list maintainer  listmaster linux ie\n",
      "\n",
      "4. Review sample after removing stopwords : \n",
      "['ilug', 'admin', 'linux', 'ie', 'mon', 'jul', '29', '11', '28', '02', '2002', 'return', 'path', 'delivered', 'yyyy', 'localhost', 'netnoteinc', 'com', 'received', 'localhost', 'localhost', '127', '0', '0', '1', 'phobos', 'labs', 'netnoteinc', 'com', 'postfix', 'esmtp', 'id', 'a13d94414f', 'mon', '29', 'jul', '2002', '06', '25', '11', '0400', 'edt', 'received', 'phobos', '127', '0', '0', '1', 'localhost', 'imap', 'fetchmail', '5', '9', '0', 'jm', 'localhost', 'single', 'drop', 'mon', '29', 'jul', '2002', '11', '25', '11', '0100', 'ist', 'received', 'lugh', 'tuatha', 'org', 'root', 'lugh', 'tuatha', 'org', '194', '125', '145', '45', 'dogma', 'slashnull', 'org', '8', '11', '6', '8', '11', '6', 'esmtp', 'id', 'g6rhn7i17130', 'sat', '27', 'jul', '2002', '18', '49', '07', '0100', 'received', 'lugh', 'root', 'localhost', '127', '0', '0', '1', 'lugh', 'tuatha', 'org', '8', '9', '3', '8', '9', '3', 'esmtp', 'id', 'saa25016', 'sat', '27', 'jul', '2002', '18', '45', '03', '0100', 'x', 'authentication', 'warning', 'lugh', 'tuatha', 'org', 'host', 'root', 'localhost', '127', '0', '0', '1', 'claimed', 'lugh', 'received', 'mail1', 'mail', 'iol', 'ie', 'mail1', 'mail', 'iol', 'ie', '194', '125', '2', '192', 'lugh', 'tuatha', 'org', '8', '9', '3', '8', '9', '3', 'esmtp', 'id', 'saa24977', 'sat', '27', 'jul', '2002', '18', '44', '56', '0100', 'received', 'dialup125', 'ts551', 'cwt', 'esat', 'net', '193', '203', '140', '125', 'helo', 'hobbiton', 'cod', 'ie', 'mail1', 'mail', 'iol', 'ie', 'esmtp', 'exim', '3', '35', '1', 'id', '17yvvf', '0001w4', '00', 'ilug', 'linux', 'ie', 'sat', '27', 'jul', '2002', '18', '37', '18', '0100', 'received', 'cdaly', 'localhost', 'hobbiton', 'cod', 'ie', '8', '11', '6', '8', '9', '3', 'id', 'g6rdroo04681', 'ilug', 'linux', 'ie', 'sat', '27', 'jul', '2002', '14', '27', '50', '0100', 'date', 'sat', '27', 'jul', '2002', '14', '27', '49', '0100', 'conor', 'daly', 'ilug', 'main', 'list', 'subject', 'ilug', 'architecture', 'crossover', 'trouble', 'w', 'rh7', '2', 'solved', 'message', 'id', 'mail', 'followup', 'ilug', 'main', 'list', 'references', 'mime', 'version', '1', '0', 'content', 'type', 'text', 'plain', 'charset', 'us', 'ascii', 'content', 'disposition', 'inline', 'user', 'agent', 'mutt', '1', '2', '5i', 'reply', 'conor', 'wynne', 'maxtor', 'com', 'fri', 'jul', '26', '2002', '03', '56', '22pm', '0100', 'sender', 'ilug', 'admin', 'linux', 'ie', 'errors', 'ilug', 'admin', 'linux', 'ie', 'x', 'mailman', 'version', '1', '1', 'precedence', 'bulk', 'list', 'id', 'irish', 'linux', 'users', 'group', 'x', 'beenthere', 'ilug', 'linux', 'ie', 'fri', 'jul', '26', '2002', '03', '56', '22pm', '0100', 'rumoured', 'hereabouts', 'wynne', 'conor', 'thought', 'surely', 'would', 'faster', 'save', 'conf', 'files', 'install', 'box', 'copy', 'back', 'confs', 'voila', 'car', 'confs', 'boite', 'data', 'right', 'yeah', 'remember', 'exactly', 'confs', 'modified', 'etc', 'either', 'thats', 'would', 'sysadmins', 'make', 'life', 'difficult', 'complicated', 'possible', 'yup', 'case', 'two', 'issues', '1', 'mirrored', 'disk', 'give', 'someone', 'else', 'work', 'box', 'available', 'p1', 'p2', 'processor', '2', 'celeron', 'box', 'crashing', 'backup', 'software', 'wanted', 'try', 'backup', 'different', 'box', 'make', 'sure', 'hardware', 'related', 'also', 'interesting', 'exercise', 'thought', 'mirroring', 'system', 'drives', 'might', 'save', 'serious', 'hassle', 'line', 'oh', 'going', 'africa', 'aiming', 'robust', 'possible', 'belt', 'braces', 'probably', 'one', 'jumpsuit', 'mirroring', 'disk', 'worth', 'much', 'eg', 'lightning', 'strike', 'taking', 'disk', 'system', 'compromise', 'also', 'going', 'backup', 'cdr', 'automated', 'restore', 'http', 'www', 'mondorescue', 'org', 'admin', 'able', 'build', 'system', 'mobo', 'got', 'fried', 'replacement', 'wrong', 'arch', 'i386', 'compatible', 'install', 'mean', 'dropping', 'hd', 'booting', 'ish', 'conor', 'conor', 'daly', 'domestic', 'sysadmin', 'faenor', 'cod', 'ie', '2', '32pm', '64', 'days', '23', '49', '0', 'users', 'load', 'average', '0', '00', '0', '00', '0', '00', 'hobbiton', 'cod', 'ie', '2', '19pm', '7', 'days', '20', '56', '1', 'user', 'load', 'average', '0', '05', '0', '02', '0', '00', 'irish', 'linux', 'users', 'group', 'ilug', 'linux', 'ie', 'http', 'www', 'linux', 'ie', 'mailman', 'listinfo', 'ilug', 'un', 'subscription', 'information', 'list', 'maintainer', 'listmaster', 'linux', 'ie']\n",
      "\n",
      "5. Review sample after stemming the words : \n",
      "ilug admin linux ie mon jul 29 11 28 02 2002 return path delivered yyyy localhost netnoteinc com received localhost localhost 127 0 0 1 phobos lab netnoteinc com postfix esmtp id a13d94414f mon 29 jul 2002 06 25 11 0400 edt received phobos 127 0 0 1 localhost imap fetchmail 5 9 0 jm localhost single drop mon 29 jul 2002 11 25 11 0100 ist received lugh tuatha org root lugh tuatha org 194 125 145 45 dogma slashnull org 8 11 6 8 11 6 esmtp id g6rhn7i17130 sat 27 jul 2002 18 49 07 0100 received lugh root localhost 127 0 0 1 lugh tuatha org 8 9 3 8 9 3 esmtp id saa25016 sat 27 jul 2002 18 45 03 0100 x authentication warning lugh tuatha org host root localhost 127 0 0 1 claimed lugh received mail1 mail iol ie mail1 mail iol ie 194 125 2 192 lugh tuatha org 8 9 3 8 9 3 esmtp id saa24977 sat 27 jul 2002 18 44 56 0100 received dialup125 ts551 cwt esat net 193 203 140 125 helo hobbiton cod ie mail1 mail iol ie esmtp exim 3 35 1 id 17yvvf 0001w4 00 ilug linux ie sat 27 jul 2002 18 37 18 0100 received cdaly localhost hobbiton cod ie 8 11 6 8 9 3 id g6rdroo04681 ilug linux ie sat 27 jul 2002 14 27 50 0100 date sat 27 jul 2002 14 27 49 0100 conor daly ilug main list subject ilug architecture crossover trouble w rh7 2 solved message id mail followup ilug main list reference mime version 1 0 content type text plain charset u ascii content disposition inline user agent mutt 1 2 5i reply conor wynne maxtor com fri jul 26 2002 03 56 22pm 0100 sender ilug admin linux ie error ilug admin linux ie x mailman version 1 1 precedence bulk list id irish linux user group x beenthere ilug linux ie fri jul 26 2002 03 56 22pm 0100 rumoured hereabouts wynne conor thought surely would faster save conf file install box copy back confs voila car confs boite data right yeah remember exactly confs modified etc either thats would sysadmins make life difficult complicated possible yup case two issue 1 mirrored disk give someone else work box available p1 p2 processor 2 celeron box crashing backup software wanted try backup different box make sure hardware related also interesting exercise thought mirroring system drive might save serious hassle line oh going africa aiming robust possible belt brace probably one jumpsuit mirroring disk worth much eg lightning strike taking disk system compromise also going backup cdr automated restore http www mondorescue org admin able build system mobo got fried replacement wrong arch i386 compatible install mean dropping hd booting ish conor conor daly domestic sysadmin faenor cod ie 2 32pm 64 day 23 49 0 user load average 0 00 0 00 0 00 hobbiton cod ie 2 19pm 7 day 20 56 1 user load average 0 05 0 02 0 00 irish linux user group ilug linux ie http www linux ie mailman listinfo ilug un subscription information list maintainer listmaster linux ie\n",
      "\n"
     ]
    }
   ],
   "source": [
    "train.text = train.text.apply(clean)\n",
    "print(f\"1. Review sample after removing HTML tags : \\n{train.text[0]}\\n\")\n",
    "\n",
    "train.text = train.text.apply(is_special)\n",
    "print(f\"2. Review sample after removing special characters : \\n{train.text[0]}\\n\")\n",
    "\n",
    "train.text = train.text.apply(to_lower)\n",
    "print(f\"3. Review sample after converting everything to lowercase : \\n{train.text[0]}\\n\")\n",
    "\n",
    "train.text = train.text.apply(rem_stopwords)\n",
    "print(f\"4. Review sample after removing stopwords : \\n{train.text[0]}\\n\")\n",
    "\n",
    "train.text = train.text.apply(stem_txt)\n",
    "print(f\"5. Review sample after stemming the words : \\n{train.text[0]}\\n\")"
   ]
  },
  {
   "cell_type": "code",
   "execution_count": 15,
   "id": "f8fed5b7-25f5-40c2-bc8e-f81c9777b841",
   "metadata": {},
   "outputs": [
    {
     "name": "stdout",
     "output_type": "stream",
     "text": [
      "=== Bag of words ===\n",
      "\n",
      "BOW X shape : (5796, 2000)\n",
      "BOW y shape : (5796,)\n",
      "\n"
     ]
    }
   ],
   "source": [
    "# 3.1 Creating Bag Of Words (BOW)\n",
    "X = np.array(train.iloc[:,0].values)\n",
    "y = np.array(train.target.values)\n",
    "\n",
    "cv = CountVectorizer(max_features = 2000)\n",
    "X = cv.fit_transform(train.text).toarray()\n",
    "\n",
    "# tfidf_vectorizer = TfidfVectorizer(max_features = 1500)\n",
    "# X = tfidf_vectorizer.fit_transform(X)\n",
    "\n",
    "print(f\"=== Bag of words ===\\n\")\n",
    "print(f\"BOW X shape : {X.shape}\")\n",
    "print(f\"BOW y shape : {y.shape}\\n\")"
   ]
  },
  {
   "cell_type": "code",
   "execution_count": 16,
   "id": "51faf997-0114-4efa-b6af-5a957c7283b6",
   "metadata": {},
   "outputs": [
    {
     "data": {
      "text/plain": [
       "array([0, 1, 1, 1, 0, 1, 1, 0, 0, 1, 0, 0, 0, 1, 1, 1, 1, 0, 0, 0, 1, 0,\n",
       "       0, 1, 0, 0, 0, 0, 0, 1, 1, 1, 1, 0, 0, 1, 1, 0, 0, 0, 1, 0, 1, 0,\n",
       "       0, 0, 0, 0, 0, 1], dtype=int64)"
      ]
     },
     "execution_count": 16,
     "metadata": {},
     "output_type": "execute_result"
    }
   ],
   "source": [
    "y[:50]"
   ]
  },
  {
   "cell_type": "code",
   "execution_count": 17,
   "id": "71e610f3-1bc4-4281-851f-192575f20000",
   "metadata": {},
   "outputs": [
    {
     "name": "stdout",
     "output_type": "stream",
     "text": [
      "Train shapes : X = (4636, 2000), y = (4636,)\n",
      "Test shapes  : X = (1160, 2000),  y = (1160,)\n",
      "\n"
     ]
    }
   ],
   "source": [
    "# 3.2 Train test split\n",
    "X_train, X_test, y_train, y_test = train_test_split(X, y, test_size=0.2, random_state=9)\n",
    "print(f\"Train shapes : X = {X_train.shape}, y = {y_train.shape}\")\n",
    "print(f\"Test shapes  : X = {X_test.shape},  y = {y_test.shape}\\n\")"
   ]
  },
  {
   "cell_type": "code",
   "execution_count": 18,
   "id": "65c9d87c-a040-4eed-974f-ffa24656a1d6",
   "metadata": {},
   "outputs": [
    {
     "data": {
      "text/html": [
       "<style>#sk-container-id-1 {color: black;background-color: white;}#sk-container-id-1 pre{padding: 0;}#sk-container-id-1 div.sk-toggleable {background-color: white;}#sk-container-id-1 label.sk-toggleable__label {cursor: pointer;display: block;width: 100%;margin-bottom: 0;padding: 0.3em;box-sizing: border-box;text-align: center;}#sk-container-id-1 label.sk-toggleable__label-arrow:before {content: \"▸\";float: left;margin-right: 0.25em;color: #696969;}#sk-container-id-1 label.sk-toggleable__label-arrow:hover:before {color: black;}#sk-container-id-1 div.sk-estimator:hover label.sk-toggleable__label-arrow:before {color: black;}#sk-container-id-1 div.sk-toggleable__content {max-height: 0;max-width: 0;overflow: hidden;text-align: left;background-color: #f0f8ff;}#sk-container-id-1 div.sk-toggleable__content pre {margin: 0.2em;color: black;border-radius: 0.25em;background-color: #f0f8ff;}#sk-container-id-1 input.sk-toggleable__control:checked~div.sk-toggleable__content {max-height: 200px;max-width: 100%;overflow: auto;}#sk-container-id-1 input.sk-toggleable__control:checked~label.sk-toggleable__label-arrow:before {content: \"▾\";}#sk-container-id-1 div.sk-estimator input.sk-toggleable__control:checked~label.sk-toggleable__label {background-color: #d4ebff;}#sk-container-id-1 div.sk-label input.sk-toggleable__control:checked~label.sk-toggleable__label {background-color: #d4ebff;}#sk-container-id-1 input.sk-hidden--visually {border: 0;clip: rect(1px 1px 1px 1px);clip: rect(1px, 1px, 1px, 1px);height: 1px;margin: -1px;overflow: hidden;padding: 0;position: absolute;width: 1px;}#sk-container-id-1 div.sk-estimator {font-family: monospace;background-color: #f0f8ff;border: 1px dotted black;border-radius: 0.25em;box-sizing: border-box;margin-bottom: 0.5em;}#sk-container-id-1 div.sk-estimator:hover {background-color: #d4ebff;}#sk-container-id-1 div.sk-parallel-item::after {content: \"\";width: 100%;border-bottom: 1px solid gray;flex-grow: 1;}#sk-container-id-1 div.sk-label:hover label.sk-toggleable__label {background-color: #d4ebff;}#sk-container-id-1 div.sk-serial::before {content: \"\";position: absolute;border-left: 1px solid gray;box-sizing: border-box;top: 0;bottom: 0;left: 50%;z-index: 0;}#sk-container-id-1 div.sk-serial {display: flex;flex-direction: column;align-items: center;background-color: white;padding-right: 0.2em;padding-left: 0.2em;position: relative;}#sk-container-id-1 div.sk-item {position: relative;z-index: 1;}#sk-container-id-1 div.sk-parallel {display: flex;align-items: stretch;justify-content: center;background-color: white;position: relative;}#sk-container-id-1 div.sk-item::before, #sk-container-id-1 div.sk-parallel-item::before {content: \"\";position: absolute;border-left: 1px solid gray;box-sizing: border-box;top: 0;bottom: 0;left: 50%;z-index: -1;}#sk-container-id-1 div.sk-parallel-item {display: flex;flex-direction: column;z-index: 1;position: relative;background-color: white;}#sk-container-id-1 div.sk-parallel-item:first-child::after {align-self: flex-end;width: 50%;}#sk-container-id-1 div.sk-parallel-item:last-child::after {align-self: flex-start;width: 50%;}#sk-container-id-1 div.sk-parallel-item:only-child::after {width: 0;}#sk-container-id-1 div.sk-dashed-wrapped {border: 1px dashed gray;margin: 0 0.4em 0.5em 0.4em;box-sizing: border-box;padding-bottom: 0.4em;background-color: white;}#sk-container-id-1 div.sk-label label {font-family: monospace;font-weight: bold;display: inline-block;line-height: 1.2em;}#sk-container-id-1 div.sk-label-container {text-align: center;}#sk-container-id-1 div.sk-container {/* jupyter's `normalize.less` sets `[hidden] { display: none; }` but bootstrap.min.css set `[hidden] { display: none !important; }` so we also need the `!important` here to be able to override the default hidden behavior on the sphinx rendered scikit-learn.org. See: https://github.com/scikit-learn/scikit-learn/issues/21755 */display: inline-block !important;position: relative;}#sk-container-id-1 div.sk-text-repr-fallback {display: none;}</style><div id=\"sk-container-id-1\" class=\"sk-top-container\"><div class=\"sk-text-repr-fallback\"><pre>RandomForestClassifier()</pre><b>In a Jupyter environment, please rerun this cell to show the HTML representation or trust the notebook. <br />On GitHub, the HTML representation is unable to render, please try loading this page with nbviewer.org.</b></div><div class=\"sk-container\" hidden><div class=\"sk-item\"><div class=\"sk-estimator sk-toggleable\"><input class=\"sk-toggleable__control sk-hidden--visually\" id=\"sk-estimator-id-1\" type=\"checkbox\" checked><label for=\"sk-estimator-id-1\" class=\"sk-toggleable__label sk-toggleable__label-arrow\">RandomForestClassifier</label><div class=\"sk-toggleable__content\"><pre>RandomForestClassifier()</pre></div></div></div></div></div>"
      ],
      "text/plain": [
       "RandomForestClassifier()"
      ]
     },
     "execution_count": 18,
     "metadata": {},
     "output_type": "execute_result"
    }
   ],
   "source": [
    "from sklearn.ensemble import RandomForestClassifier\n",
    "# 3.3 Defining the models and Training them\n",
    "gnb, mnb, bnb, rf = GaussianNB(), MultinomialNB(alpha=1.0,fit_prior=True), BernoulliNB(alpha=1.0,fit_prior=True),RandomForestClassifier()\n",
    "gnb.fit(X_train, y_train)\n",
    "mnb.fit(X_train, y_train)\n",
    "bnb.fit(X_train, y_train)\n",
    "rf.fit(X_train, y_train)"
   ]
  },
  {
   "cell_type": "code",
   "execution_count": 19,
   "id": "e63a1d69-bbbe-4364-ac85-d25e601c92df",
   "metadata": {},
   "outputs": [
    {
     "data": {
      "text/plain": [
       "['Models/MRSA_rf.pkl']"
      ]
     },
     "execution_count": 19,
     "metadata": {},
     "output_type": "execute_result"
    }
   ],
   "source": [
    "joblib.dump(gnb, \"Models/MRSA_gnb.pkl\")\n",
    "joblib.dump(mnb, \"Models/MRSA_mnb.pkl\")\n",
    "joblib.dump(bnb, \"Models/MRSA_bnb.pkl\")\n",
    "joblib.dump(bnb, \"Models/MRSA_rf.pkl\")"
   ]
  },
  {
   "cell_type": "code",
   "execution_count": 20,
   "id": "7febaae2-4855-4c04-a1f3-e2aea947f1f2",
   "metadata": {},
   "outputs": [
    {
     "name": "stdout",
     "output_type": "stream",
     "text": [
      "Gaussian accuracy    =  99.00 %\n",
      "Multinomial accuracy =  98.00 %\n",
      "Bernoulli accuracy   =  97.00 %\n",
      "Random Forest   =  100.00 %\n"
     ]
    }
   ],
   "source": [
    "# 3.5 Make predictions\n",
    "ypg = gnb.predict(X_test)\n",
    "ypm = mnb.predict(X_test)\n",
    "ypb = bnb.predict(X_test)\n",
    "yrf = rf.predict(X_test)\n",
    "\n",
    "## 4 | Model Evaluation ##\n",
    "\"\"\"Evaluate model performance\"\"\"\n",
    "print(f\"Gaussian accuracy    =  {round(accuracy_score(y_test, ypg), 2)*100:.2f} %\")\n",
    "print(f\"Multinomial accuracy =  {round(accuracy_score(y_test, ypm), 2)*100:.2f} %\")\n",
    "print(f\"Bernoulli accuracy   =  {round(accuracy_score(y_test, ypb), 2)*100:.2f} %\")\n",
    "print(f\"Random Forest   =  {round(accuracy_score(y_test, yrf), 2)*100:.2f} %\")"
   ]
  },
  {
   "cell_type": "code",
   "execution_count": 34,
   "id": "d3f32eae-f623-47a9-a20a-461b936d03ec",
   "metadata": {},
   "outputs": [],
   "source": [
    "tweet =  \"\"\"\n",
    "Subject: Win a FREE iPad!\n",
    "\n",
    "Congratulations! You have been selected to win a FREE iPad!\n",
    "\n",
    "To claim your prize, please click on the link below and follow the instructions:\n",
    "\n",
    "[CLICK HERE TO CLAIM YOUR PRIZE](http://www.fakewebsite.com/claim-prize)\n",
    "\n",
    "Don't miss out on this amazing opportunity!\n",
    "\n",
    "Best Regards,\n",
    "\n",
    "The Free Prize Team\n",
    "\n",
    "\"\"\"\n",
    "\n",
    "tweet =  \"\"\"\n",
    "\n",
    "Subject: Meeting Agenda for Tomorrow\n",
    "\n",
    "Hi Team,\n",
    "\n",
    "I hope this email finds you well. I wanted to share the agenda for our meeting tomorrow at 10 AM.\n",
    "\n",
    "1. Project Status Updates\n",
    "   - John will present the latest progress on the marketing campaign.\n",
    "   - Sarah will provide an update on the financial projections.\n",
    "\n",
    "2. Discussion on New Client Proposal\n",
    "   - We will review the proposal for the new client and discuss any potential risks or opportunities.\n",
    "\n",
    "3. Action Items\n",
    "   - Jane will follow up with the IT department regarding the new software installation.\n",
    "   - Mike will schedule a call with the potential new vendor for next week.\n",
    "\n",
    "Please make sure to bring any relevant documents or data to the meeting.\n",
    "\n",
    "Looking forward to seeing you all tomorrow.\n",
    "\n",
    "Best Regards,\n",
    "\n",
    "Bwenge kyangi\n",
    "\n",
    "\n",
    "\"\"\""
   ]
  },
  {
   "cell_type": "code",
   "execution_count": 42,
   "id": "eb8239fe-dbbe-415c-a71a-5628ca2ccef5",
   "metadata": {},
   "outputs": [
    {
     "ename": "KeyError",
     "evalue": "'key of type tuple not found and not a MultiIndex'",
     "output_type": "error",
     "traceback": [
      "\u001b[1;31m---------------------------------------------------------------------------\u001b[0m",
      "\u001b[1;31mKeyError\u001b[0m                                  Traceback (most recent call last)",
      "Cell \u001b[1;32mIn[42], line 1\u001b[0m\n\u001b[1;32m----> 1\u001b[0m train\u001b[38;5;241m.\u001b[39mloc[train\u001b[38;5;241m.\u001b[39mtext[\u001b[38;5;241m0\u001b[39m,\u001b[38;5;241m0\u001b[39m]]\n",
      "File \u001b[1;32m~\\Desktop\\Machine_learning\\env\\Lib\\site-packages\\pandas\\core\\series.py:1144\u001b[0m, in \u001b[0;36mSeries.__getitem__\u001b[1;34m(self, key)\u001b[0m\n\u001b[0;32m   1141\u001b[0m     key \u001b[38;5;241m=\u001b[39m np\u001b[38;5;241m.\u001b[39masarray(key, dtype\u001b[38;5;241m=\u001b[39m\u001b[38;5;28mbool\u001b[39m)\n\u001b[0;32m   1142\u001b[0m     \u001b[38;5;28;01mreturn\u001b[39;00m \u001b[38;5;28mself\u001b[39m\u001b[38;5;241m.\u001b[39m_get_rows_with_mask(key)\n\u001b[1;32m-> 1144\u001b[0m \u001b[38;5;28;01mreturn\u001b[39;00m \u001b[38;5;28mself\u001b[39m\u001b[38;5;241m.\u001b[39m_get_with(key)\n",
      "File \u001b[1;32m~\\Desktop\\Machine_learning\\env\\Lib\\site-packages\\pandas\\core\\series.py:1154\u001b[0m, in \u001b[0;36mSeries._get_with\u001b[1;34m(self, key)\u001b[0m\n\u001b[0;32m   1149\u001b[0m     \u001b[38;5;28;01mraise\u001b[39;00m \u001b[38;5;167;01mTypeError\u001b[39;00m(\n\u001b[0;32m   1150\u001b[0m         \u001b[38;5;124m\"\u001b[39m\u001b[38;5;124mIndexing a Series with DataFrame is not \u001b[39m\u001b[38;5;124m\"\u001b[39m\n\u001b[0;32m   1151\u001b[0m         \u001b[38;5;124m\"\u001b[39m\u001b[38;5;124msupported, use the appropriate DataFrame column\u001b[39m\u001b[38;5;124m\"\u001b[39m\n\u001b[0;32m   1152\u001b[0m     )\n\u001b[0;32m   1153\u001b[0m \u001b[38;5;28;01melif\u001b[39;00m \u001b[38;5;28misinstance\u001b[39m(key, \u001b[38;5;28mtuple\u001b[39m):\n\u001b[1;32m-> 1154\u001b[0m     \u001b[38;5;28;01mreturn\u001b[39;00m \u001b[38;5;28mself\u001b[39m\u001b[38;5;241m.\u001b[39m_get_values_tuple(key)\n\u001b[0;32m   1156\u001b[0m \u001b[38;5;28;01melif\u001b[39;00m \u001b[38;5;129;01mnot\u001b[39;00m is_list_like(key):\n\u001b[0;32m   1157\u001b[0m     \u001b[38;5;66;03m# e.g. scalars that aren't recognized by lib.is_scalar, GH#32684\u001b[39;00m\n\u001b[0;32m   1158\u001b[0m     \u001b[38;5;28;01mreturn\u001b[39;00m \u001b[38;5;28mself\u001b[39m\u001b[38;5;241m.\u001b[39mloc[key]\n",
      "File \u001b[1;32m~\\Desktop\\Machine_learning\\env\\Lib\\site-packages\\pandas\\core\\series.py:1198\u001b[0m, in \u001b[0;36mSeries._get_values_tuple\u001b[1;34m(self, key)\u001b[0m\n\u001b[0;32m   1195\u001b[0m     \u001b[38;5;28;01mreturn\u001b[39;00m result\n\u001b[0;32m   1197\u001b[0m \u001b[38;5;28;01mif\u001b[39;00m \u001b[38;5;129;01mnot\u001b[39;00m \u001b[38;5;28misinstance\u001b[39m(\u001b[38;5;28mself\u001b[39m\u001b[38;5;241m.\u001b[39mindex, MultiIndex):\n\u001b[1;32m-> 1198\u001b[0m     \u001b[38;5;28;01mraise\u001b[39;00m \u001b[38;5;167;01mKeyError\u001b[39;00m(\u001b[38;5;124m\"\u001b[39m\u001b[38;5;124mkey of type tuple not found and not a MultiIndex\u001b[39m\u001b[38;5;124m\"\u001b[39m)\n\u001b[0;32m   1200\u001b[0m \u001b[38;5;66;03m# If key is contained, would have returned by now\u001b[39;00m\n\u001b[0;32m   1201\u001b[0m indexer, new_index \u001b[38;5;241m=\u001b[39m \u001b[38;5;28mself\u001b[39m\u001b[38;5;241m.\u001b[39mindex\u001b[38;5;241m.\u001b[39mget_loc_level(key)\n",
      "\u001b[1;31mKeyError\u001b[0m: 'key of type tuple not found and not a MultiIndex'"
     ]
    }
   ],
   "source": [
    "train.loc[train.te]"
   ]
  },
  {
   "cell_type": "code",
   "execution_count": 35,
   "id": "e4179423-7084-46a3-9f54-56270c2d86f9",
   "metadata": {},
   "outputs": [],
   "source": [
    "f1 = clean(tweet)\n",
    "f2 = is_special(f1)\n",
    "f3 = to_lower(f2)\n",
    "f4 = rem_stopwords(f3)\n",
    "f5 = stem_txt(f4)"
   ]
  },
  {
   "cell_type": "code",
   "execution_count": 36,
   "id": "d91c278a-70b4-4372-b120-cbb1fbf12b19",
   "metadata": {},
   "outputs": [
    {
     "data": {
      "text/plain": [
       "'subject meeting agenda tomorrow hi team hope email find well wanted share agenda meeting tomorrow 10 1 project status update john present latest progress marketing campaign sarah provide update financial projection 2 discussion new client proposal review proposal new client discus potential risk opportunity 3 action item jane follow department regarding new software installation mike schedule call potential new vendor next week please make sure bring relevant document data meeting looking forward seeing tomorrow best regard bwenge kyangi'"
      ]
     },
     "execution_count": 36,
     "metadata": {},
     "output_type": "execute_result"
    }
   ],
   "source": [
    "f5"
   ]
  },
  {
   "cell_type": "code",
   "execution_count": 37,
   "id": "edb80dc9-c933-4b6d-a12e-c5aa39ada9e8",
   "metadata": {},
   "outputs": [],
   "source": [
    "import pickle\n",
    "bow,words = [],word_tokenize(f5)\n",
    "for word in words:\n",
    "    bow.append(words.count(word))\n",
    "#np.array(bow).reshape(1,3000)\n",
    "#bow.shape\n",
    "word_dict = cv.vocabulary_\n",
    "pickle.dump(word_dict,open('bow.pkl','wb'))"
   ]
  },
  {
   "cell_type": "code",
   "execution_count": null,
   "id": "8e69cbe8-5c88-413c-a4a3-3fb2f2daa046",
   "metadata": {},
   "outputs": [],
   "source": []
  },
  {
   "cell_type": "code",
   "execution_count": 38,
   "id": "6ace2680-88ae-4a24-a244-9dbb7c2bd7c2",
   "metadata": {},
   "outputs": [
    {
     "name": "stdout",
     "output_type": "stream",
     "text": [
      "[1]\n"
     ]
    }
   ],
   "source": [
    "inp = []\n",
    "for i in word_dict:\n",
    "    inp.append(f5.count(i[0]))\n",
    "y_pred = bnb.predict(np.array(inp).reshape(1,2000))\n",
    "\n",
    "print(y_pred)"
   ]
  },
  {
   "cell_type": "code",
   "execution_count": 39,
   "id": "685306da-c770-4e94-9547-c84199e7bc24",
   "metadata": {},
   "outputs": [
    {
     "name": "stdout",
     "output_type": "stream",
     "text": [
      "['and' 'document' 'first' 'is' 'one' 'second' 'the' 'third' 'this']\n",
      "[[0 1 1 1 0 0 1 0 1]\n",
      " [0 2 0 1 0 1 1 0 1]\n",
      " [1 0 0 1 1 0 1 1 1]\n",
      " [0 1 1 1 0 0 1 0 1]]\n"
     ]
    }
   ],
   "source": [
    "from sklearn.feature_extraction.text import CountVectorizer\n",
    "\n",
    "corpus = [\n",
    "    'This is the first document.',\n",
    "    'This document is the second document.',\n",
    "    'And this is the third one.',\n",
    "    'Is this the first document?',\n",
    "]\n",
    "vectorizer = CountVectorizer()\n",
    "X = vectorizer.fit_transform(corpus)\n",
    "print(vectorizer.get_feature_names_out())\n",
    "print(X.toarray())"
   ]
  },
  {
   "cell_type": "code",
   "execution_count": null,
   "id": "31f35d49-9189-4b2c-b07f-16d18cfe8498",
   "metadata": {},
   "outputs": [],
   "source": []
  },
  {
   "cell_type": "code",
   "execution_count": null,
   "id": "a8ba4bb6-9141-4ad9-a4f0-9874a14ad5b2",
   "metadata": {},
   "outputs": [],
   "source": []
  },
  {
   "cell_type": "code",
   "execution_count": null,
   "id": "e3f6aa88-d5ed-4fc5-a0c1-e9dc322bca28",
   "metadata": {},
   "outputs": [],
   "source": []
  }
 ],
 "metadata": {
  "kernelspec": {
   "display_name": "Python 3 (ipykernel)",
   "language": "python",
   "name": "python3"
  },
  "language_info": {
   "codemirror_mode": {
    "name": "ipython",
    "version": 3
   },
   "file_extension": ".py",
   "mimetype": "text/x-python",
   "name": "python",
   "nbconvert_exporter": "python",
   "pygments_lexer": "ipython3",
   "version": "3.11.7"
  }
 },
 "nbformat": 4,
 "nbformat_minor": 5
}
